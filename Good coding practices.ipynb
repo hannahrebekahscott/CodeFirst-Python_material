{
 "cells": [
  {
   "cell_type": "markdown",
   "metadata": {},
   "source": [
    "# Good coding practices \n",
    "Tania A."
   ]
  },
  {
   "cell_type": "markdown",
   "metadata": {},
   "source": [
    "## Start your script with some basic information"
   ]
  },
  {
   "cell_type": "code",
   "execution_count": 1,
   "metadata": {
    "collapsed": true
   },
   "outputs": [],
   "source": [
    "# Author: Tania A.\n",
    "# This script is used to find even and odd numbers"
   ]
  },
  {
   "cell_type": "markdown",
   "metadata": {},
   "source": [
    "## Use explicit and meaningful variable names"
   ]
  },
  {
   "cell_type": "code",
   "execution_count": 2,
   "metadata": {
    "collapsed": true
   },
   "outputs": [],
   "source": [
    "distance = 50\n",
    "velocity = 100\n",
    "time = distance / velocity"
   ]
  },
  {
   "cell_type": "markdown",
   "metadata": {},
   "source": [
    "## Leave a blank space before/after math symbols \n"
   ]
  },
  {
   "cell_type": "code",
   "execution_count": 3,
   "metadata": {
    "collapsed": false
   },
   "outputs": [
    {
     "name": "stdout",
     "output_type": "stream",
     "text": [
      "I love Python\n"
     ]
    }
   ],
   "source": [
    "velocity = 100 / 4.0\n",
    "1 == 2\n",
    "print ( \"I love Python\" )"
   ]
  },
  {
   "cell_type": "markdown",
   "metadata": {},
   "source": [
    "## Comment your code!!!! Please!"
   ]
  },
  {
   "cell_type": "code",
   "execution_count": 4,
   "metadata": {
    "collapsed": false
   },
   "outputs": [],
   "source": [
    "# importing libraries\n",
    "import matplotlib.pyplot as plt\n",
    "\n",
    "numbers = list(range(15))\n",
    "\n",
    "#function to identify odd and even numbers\n",
    "def ident(numbers):\n",
    "    for i in numbers:\n",
    "        if i % 2 == 0: #checks if the number can be divided by 2\n",
    "            print (\"%d is an even number\" %i)"
   ]
  },
  {
   "cell_type": "code",
   "execution_count": 5,
   "metadata": {
    "collapsed": false
   },
   "outputs": [
    {
     "name": "stdout",
     "output_type": "stream",
     "text": [
      "0 is an even number\n",
      "2 is an even number\n",
      "4 is an even number\n",
      "6 is an even number\n",
      "8 is an even number\n",
      "10 is an even number\n",
      "12 is an even number\n",
      "14 is an even number\n"
     ]
    }
   ],
   "source": [
    "ident(numbers)"
   ]
  },
  {
   "cell_type": "markdown",
   "metadata": {},
   "source": [
    "## Avoid very long lines"
   ]
  },
  {
   "cell_type": "code",
   "execution_count": 6,
   "metadata": {
    "collapsed": false
   },
   "outputs": [
    {
     "data": {
      "text/plain": [
       "<matplotlib.text.Text at 0x10e027be0>"
      ]
     },
     "execution_count": 6,
     "metadata": {},
     "output_type": "execute_result"
    },
    {
     "data": {
      "image/png": "[encoded data removed]",
      "text/plain": [
       "<matplotlib.figure.Figure at 0x10ac526a0>"
      ]
     },
     "metadata": {},
     "output_type": "display_data"
    }
   ],
   "source": [
    "# loading libraries\n",
    "import numpy as np\n",
    "%matplotlib inline\n",
    "\n",
    "#create variables\n",
    "time = np.linspace(0, 10, 100)\n",
    "omega = np.sqrt(10.0 / 4.0)\n",
    "\n",
    "curve = np.sin(omega * time)\n",
    "\n",
    "#plotting the curve\n",
    "plt.plot(time, curve, color = 'purple', marker ='o', linestyle = '-',\n",
    "        label = 'Sin')\n",
    "\n",
    "#plot labels\n",
    "plt.xlabel('Time')\n",
    "plt.ylabel('Sin(time)')"
   ]
  },
  {
   "cell_type": "code",
   "execution_count": null,
   "metadata": {
    "collapsed": true
   },
   "outputs": [],
   "source": []
  }
 ],
 "metadata": {
  "anaconda-cloud": {},
  "kernelspec": {
   "display_name": "Python [default]",
   "language": "python",
   "name": "python3"
  },
  "language_info": {
   "codemirror_mode": {
    "name": "ipython",
    "version": 3
   },
   "file_extension": ".py",
   "mimetype": "text/x-python",
   "name": "python",
   "nbconvert_exporter": "python",
   "pygments_lexer": "ipython3",
   "version": "3.5.2"
  }
 },
 "nbformat": 4,
 "nbformat_minor": 1
}
