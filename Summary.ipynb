{
 "cells": [
  {
   "cell_type": "markdown",
   "metadata": {},
   "source": [
    "# Summary of what you have checked so far\n",
    "Tania A.\n"
   ]
  },
  {
   "cell_type": "markdown",
   "metadata": {},
   "source": [
    "### Performing basic operations"
   ]
  },
  {
   "cell_type": "code",
   "execution_count": 1,
   "metadata": {
    "collapsed": false
   },
   "outputs": [
    {
     "data": {
      "text/plain": [
       "2.3"
      ]
     },
     "execution_count": 1,
     "metadata": {},
     "output_type": "execute_result"
    }
   ],
   "source": [
    "2.0 + 0.3"
   ]
  },
  {
   "cell_type": "code",
   "execution_count": 2,
   "metadata": {
    "collapsed": false
   },
   "outputs": [
    {
     "data": {
      "text/plain": [
       "1"
      ]
     },
     "execution_count": 2,
     "metadata": {},
     "output_type": "execute_result"
    }
   ],
   "source": [
    "7 % 3"
   ]
  },
  {
   "cell_type": "markdown",
   "metadata": {
    "collapsed": true
   },
   "source": [
    "### Using variables... in various ways "
   ]
  },
  {
   "cell_type": "code",
   "execution_count": 3,
   "metadata": {
    "collapsed": false
   },
   "outputs": [
    {
     "name": "stdout",
     "output_type": "stream",
     "text": [
      "If we add 10 to my number, we get 20\n"
     ]
    }
   ],
   "source": [
    "my_number =10\n",
    "plus_ten = my_number + 10\n",
    "\n",
    "print(\"If we add 10 to my number, we get %s\" %plus_ten)"
   ]
  },
  {
   "cell_type": "code",
   "execution_count": 4,
   "metadata": {
    "collapsed": false
   },
   "outputs": [
    {
     "name": "stdout",
     "output_type": "stream",
     "text": [
      "Hello Pythonistas\n"
     ]
    }
   ],
   "source": [
    "greetings, group = \"Hello\", \" Pythonistas\"\n",
    "print (greetings + group)"
   ]
  },
  {
   "cell_type": "code",
   "execution_count": 5,
   "metadata": {
    "collapsed": false
   },
   "outputs": [
    {
     "name": "stdout",
     "output_type": "stream",
     "text": [
      "5 2 7.8\n"
     ]
    }
   ],
   "source": [
    "# you can declare various variables at once\n",
    "x, y, z = 5, 2, 7.8\n",
    "print (x, y, z)"
   ]
  },
  {
   "cell_type": "markdown",
   "metadata": {},
   "source": [
    "### Working with files"
   ]
  },
  {
   "cell_type": "code",
   "execution_count": 6,
   "metadata": {
    "collapsed": false
   },
   "outputs": [
    {
     "name": "stdout",
     "output_type": "stream",
     "text": [
      "“But I don’t want to go among mad people,\" Alice remarked.\n",
      "\"Oh, you can’t help that,\" said the Cat: \"we’re all mad here. I’m mad. You’re mad.\"\n",
      "\"How do you know I’m mad?\" said Alice.\n",
      "\"You must be,\" said the Cat, \"or you wouldn’t have come here.” \n",
      "\n",
      " \n",
      " From Alice in Wonderland\n"
     ]
    }
   ],
   "source": [
    "# reading from a file\n",
    "text = open('Alice.txt')\n",
    "print (text.read())"
   ]
  },
  {
   "cell_type": "code",
   "execution_count": 7,
   "metadata": {
    "collapsed": true
   },
   "outputs": [],
   "source": [
    "text.close()"
   ]
  },
  {
   "cell_type": "code",
   "execution_count": 8,
   "metadata": {
    "collapsed": false
   },
   "outputs": [
    {
     "name": "stdout",
     "output_type": "stream",
     "text": [
      "“But I don’t want to go among mad people,\" Alice remarked.\n",
      "\"Oh, you can’t help that,\" said the Cat: \"we’re all mad here. I’m mad. You’re mad.\"\n",
      "\"How do you know I’m mad?\" said Alice.\n",
      "\"You must be,\" said the Cat, \"or you wouldn’t have come here.” \n",
      "\n",
      " \n",
      " From Alice in Wonderland\n",
      "************\n",
      "Reached the end of the document, closing now\n"
     ]
    }
   ],
   "source": [
    "# or even better\n",
    "with open(\"Alice.txt\", \"r\") as text:\n",
    "    print (text.read())\n",
    "    print(\"************\\nReached the end of the document, closing now\")\n",
    "    \n",
    "    # remember to always close files\n",
    "    text.close()\n",
    "    "
   ]
  },
  {
   "cell_type": "code",
   "execution_count": 9,
   "metadata": {
    "collapsed": false
   },
   "outputs": [
    {
     "name": "stdout",
     "output_type": "stream",
     "text": [
      "Added line\n"
     ]
    }
   ],
   "source": [
    "# writing to a file (in this case we are appending\n",
    "# so we use the permission 'a')\n",
    "with open(\"Alice.txt\", \"a\") as text:\n",
    "    text.write(\"\\n \\n From Alice in Wonderland\")\n",
    "    print (\"Added line\")"
   ]
  },
  {
   "cell_type": "code",
   "execution_count": 10,
   "metadata": {
    "collapsed": false
   },
   "outputs": [
    {
     "name": "stdout",
     "output_type": "stream",
     "text": [
      "“But I don’t want to go among mad people,\" Alice remarked.\n",
      "\"Oh, you can’t help that,\" said the Cat: \"we’re all mad here. I’m mad. You’re mad.\"\n",
      "\"How do you know I’m mad?\" said Alice.\n",
      "\"You must be,\" said the Cat, \"or you wouldn’t have come here.” \n",
      "\n",
      " \n",
      " From Alice in Wonderland\n",
      " \n",
      " From Alice in Wonderland\n"
     ]
    }
   ],
   "source": [
    "# checking the output\n",
    "with open(\"Alice.txt\", \"r\") as text:\n",
    "    print(text.read())\n",
    "    text.close()"
   ]
  },
  {
   "cell_type": "code",
   "execution_count": 11,
   "metadata": {
    "collapsed": false
   },
   "outputs": [],
   "source": [
    "# you can even copy from one file\n",
    "with open(\"Alice.txt\", \"r\") as text:\n",
    "    text_content = text.read()\n",
    "    \n",
    "    #opening the new document \n",
    "    with open(\"Alice2.txt\", \"w\") as text_copy:\n",
    "        text_copy.write(text_content)\n",
    "        \n",
    "        text.close()\n",
    "        text_copy.close()"
   ]
  },
  {
   "cell_type": "markdown",
   "metadata": {},
   "source": [
    "### Creating functions"
   ]
  },
  {
   "cell_type": "code",
   "execution_count": 12,
   "metadata": {
    "collapsed": false
   },
   "outputs": [],
   "source": [
    "def print_numbers(numbers):\n",
    "    for i in numbers:\n",
    "        print (i)\n",
    "        \n",
    "numbers = list(range(9))"
   ]
  },
  {
   "cell_type": "code",
   "execution_count": 13,
   "metadata": {
    "collapsed": false
   },
   "outputs": [
    {
     "name": "stdout",
     "output_type": "stream",
     "text": [
      "0\n",
      "1\n",
      "2\n",
      "3\n",
      "4\n",
      "5\n",
      "6\n",
      "7\n",
      "8\n"
     ]
    }
   ],
   "source": [
    "print_numbers(numbers)"
   ]
  },
  {
   "cell_type": "code",
   "execution_count": 14,
   "metadata": {
    "collapsed": true
   },
   "outputs": [],
   "source": [
    "with open(\"Alice.txt\", \"r\") as text:\n",
    "    text_content = text.readlines()\n",
    "\n",
    "def print_lines(text):\n",
    "    for i in text_content:\n",
    "        print (i)"
   ]
  },
  {
   "cell_type": "code",
   "execution_count": 15,
   "metadata": {
    "collapsed": false
   },
   "outputs": [
    {
     "name": "stdout",
     "output_type": "stream",
     "text": [
      "“But I don’t want to go among mad people,\" Alice remarked.\n",
      "\n",
      "\"Oh, you can’t help that,\" said the Cat: \"we’re all mad here. I’m mad. You’re mad.\"\n",
      "\n",
      "\"How do you know I’m mad?\" said Alice.\n",
      "\n",
      "\"You must be,\" said the Cat, \"or you wouldn’t have come here.” \n",
      "\n",
      "\n",
      "\n",
      " \n",
      "\n",
      " From Alice in Wonderland\n",
      "\n",
      " \n",
      "\n",
      " From Alice in Wonderland\n"
     ]
    }
   ],
   "source": [
    "print_lines(text_content)"
   ]
  },
  {
   "cell_type": "code",
   "execution_count": 1,
   "metadata": {
    "collapsed": false
   },
   "outputs": [],
   "source": [
    "def sum(x,y):\n",
    "    result = x + y\n",
    "    return result"
   ]
  },
  {
   "cell_type": "code",
   "execution_count": 3,
   "metadata": {
    "collapsed": false
   },
   "outputs": [
    {
     "data": {
      "text/plain": [
       "12"
      ]
     },
     "execution_count": 3,
     "metadata": {},
     "output_type": "execute_result"
    }
   ],
   "source": [
    "sum( 5, 7)"
   ]
  },
  {
   "cell_type": "code",
   "execution_count": 2,
   "metadata": {
    "collapsed": false
   },
   "outputs": [
    {
     "name": "stdout",
     "output_type": "stream",
     "text": [
      "\n",
      "\tJan\n",
      "\t\tlol\n"
     ]
    }
   ],
   "source": [
    "days=\"\\n\\tJan\\n\\t\\tlol\"\n",
    "print(days)"
   ]
  },
  {
   "cell_type": "code",
   "execution_count": null,
   "metadata": {
    "collapsed": true
   },
   "outputs": [],
   "source": []
  }
 ],
 "metadata": {
  "anaconda-cloud": {},
  "kernelspec": {
   "display_name": "Python [default]",
   "language": "python",
   "name": "python3"
  },
  "language_info": {
   "codemirror_mode": {
    "name": "ipython",
    "version": 3
   },
   "file_extension": ".py",
   "mimetype": "text/x-python",
   "name": "python",
   "nbconvert_exporter": "python",
   "pygments_lexer": "ipython3",
   "version": "3.5.2"
  }
 },
 "nbformat": 4,
 "nbformat_minor": 2
}
