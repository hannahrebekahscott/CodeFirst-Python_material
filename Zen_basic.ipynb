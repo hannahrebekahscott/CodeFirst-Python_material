{
 "cells": [
  {
   "cell_type": "markdown",
   "metadata": {},
   "source": [
    "# The zen of Python \n",
    "\n",
    "Tania A.\n",
    "Code First: Adanced Python course"
   ]
  },
  {
   "cell_type": "markdown",
   "metadata": {},
   "source": [
    "One of the many advantages of using Python is its readabilty. There are well known guides on how to write code in a Pythonic way (PEP 20)"
   ]
  },
  {
   "cell_type": "code",
   "execution_count": 1,
   "metadata": {
    "collapsed": false
   },
   "outputs": [
    {
     "name": "stdout",
     "output_type": "stream",
     "text": [
      "The Zen of Python, by Tim Peters\n",
      "\n",
      "Beautiful is better than ugly.\n",
      "Explicit is better than implicit.\n",
      "Simple is better than complex.\n",
      "Complex is better than complicated.\n",
      "Flat is better than nested.\n",
      "Sparse is better than dense.\n",
      "Readability counts.\n",
      "Special cases aren't special enough to break the rules.\n",
      "Although practicality beats purity.\n",
      "Errors should never pass silently.\n",
      "Unless explicitly silenced.\n",
      "In the face of ambiguity, refuse the temptation to guess.\n",
      "There should be one-- and preferably only one --obvious way to do it.\n",
      "Although that way may not be obvious at first unless you're Dutch.\n",
      "Now is better than never.\n",
      "Although never is often better than *right* now.\n",
      "If the implementation is hard to explain, it's a bad idea.\n",
      "If the implementation is easy to explain, it may be a good idea.\n",
      "Namespaces are one honking great idea -- let's do more of those!\n"
     ]
    }
   ],
   "source": [
    "# Let's see what this is about\n",
    "import this  "
   ]
  },
  {
   "cell_type": "markdown",
   "metadata": {},
   "source": [
    " ### Beautiful is better than ugly \n",
    " Writing a function that takes a list of numbers and returns only the\n",
    "even ones, divided by two."
   ]
  },
  {
   "cell_type": "code",
   "execution_count": 3,
   "metadata": {
    "collapsed": true
   },
   "outputs": [],
   "source": [
    "halve_evens_only = lambda nums: map(lambda i: i/2, filter(lambda i: not i%2, nums))"
   ]
  },
  {
   "cell_type": "code",
   "execution_count": 4,
   "metadata": {
    "collapsed": true
   },
   "outputs": [],
   "source": [
    "def halve_evens_only(nums):\n",
    "    return [i/2 for i in nums if not i % 2"
   ]
  },
  {
   "cell_type": "markdown",
   "metadata": {},
   "source": [
    "### Explicit is better than implicit \n",
    "Compute the velocity"
   ]
  },
  {
   "cell_type": "code",
   "execution_count": 6,
   "metadata": {
    "collapsed": true
   },
   "outputs": [],
   "source": [
    "v = 30\n",
    "x = v * 2.0"
   ]
  },
  {
   "cell_type": "code",
   "execution_count": 8,
   "metadata": {
    "collapsed": true
   },
   "outputs": [],
   "source": [
    "velocity = 30 #km/s\n",
    "distance = v * 2.0"
   ]
  },
  {
   "cell_type": "markdown",
   "metadata": {},
   "source": [
    "### Simple is better than complex\n",
    "Store the measurements in disk"
   ]
  },
  {
   "cell_type": "code",
   "execution_count": 9,
   "metadata": {
    "collapsed": true
   },
   "outputs": [],
   "source": [
    "measurements = [\n",
    "    {'weight': 392.3, 'color': 'purple', 'temperature': 33.4},\n",
    "    {'weight': 34.0, 'color': 'green', 'temperature': -3.1},\n",
    "    ]"
   ]
  },
  {
   "cell_type": "code",
   "execution_count": 10,
   "metadata": {
    "collapsed": true
   },
   "outputs": [],
   "source": [
    "def store(measurements):\n",
    "    import sqlalchemy\n",
    "    import sqlalchemy.types as sqltypes\n",
    "    \n",
    "    db = sqlalchemy.create_engine('sqlite:///measurements.db')\n",
    "    db.echo = False\n",
    "    metadata = sqlalchemy.MetaData(db)\n",
    "    table = sqlalchemy.Table('measurements', metadata,\n",
    "        sqlalchemy.Column('id', sqltypes.Integer, primary_key=True),\n",
    "        sqlalchemy.Column('weight', sqltypes.Float),\n",
    "        sqlalchemy.Column('temperature', sqltypes.Float),\n",
    "        sqlalchemy.Column('color', sqltypes.String(32)),\n",
    "        )\n",
    "    table.create(checkfirst=True)\n",
    "    \n",
    "    for measurement in measurements:\n",
    "        i = table.insert()\n",
    "        i.execute(**measurement)"
   ]
  },
  {
   "cell_type": "code",
   "execution_count": 11,
   "metadata": {
    "collapsed": true
   },
   "outputs": [],
   "source": [
    "def store(measurements):\n",
    "    import json\n",
    "    with open('measurements.json', 'w') as f:\n",
    "        f.write(json.dumps(measurements))"
   ]
  },
  {
   "cell_type": "markdown",
   "metadata": {},
   "source": [
    "### Flat is better than nested\n",
    "Identify the animal"
   ]
  },
  {
   "cell_type": "code",
   "execution_count": 12,
   "metadata": {
    "collapsed": true
   },
   "outputs": [],
   "source": [
    "def identify(animal):\n",
    "    if animal.is_vertebrate():\n",
    "        noise = animal.poke()\n",
    "        if noise == 'moo':\n",
    "            return 'cow'\n",
    "        elif noise == 'woof':\n",
    "            return 'dog'\n",
    "    else:\n",
    "        if animal.is_multicellular():\n",
    "            return 'Bug!'\n",
    "        else:\n",
    "            if animal.is_fungus():\n",
    "                return 'Yeast'\n",
    "            else:\n",
    "                return 'Amoeba'"
   ]
  },
  {
   "cell_type": "code",
   "execution_count": 13,
   "metadata": {
    "collapsed": true
   },
   "outputs": [],
   "source": [
    "def identify(animal):\n",
    "    if animal.is_vertebrate():\n",
    "        return identify_vertebrate()\n",
    "    else:\n",
    "        return identify_invertebrate()\n",
    "\n",
    "def identify_vertebrate(animal):\n",
    "    noise = animal.poke()\n",
    "    if noise == 'moo':\n",
    "        return 'cow'\n",
    "    elif noise == 'woof':\n",
    "        return 'dog'\n",
    "\n",
    "def identify_invertebrate(animal):\n",
    "    if animal.is_multicellular():\n",
    "        return 'Bug!'\n",
    "    else:\n",
    "        if animal.is_fungus():\n",
    "            return 'Yeast'\n",
    "        else:\n",
    "            return 'Amoeba'\n"
   ]
  },
  {
   "cell_type": "markdown",
   "metadata": {},
   "source": [
    "### Sparse is better than dense"
   ]
  },
  {
   "cell_type": "code",
   "execution_count": 14,
   "metadata": {
    "collapsed": true
   },
   "outputs": [],
   "source": [
    "def process(response):\n",
    "    selector = lxml.cssselect.CSSSelector('#main > div.text')\n",
    "    lx = lxml.html.fromstring(response.body)\n",
    "    title = lx.find('./head/title').text\n",
    "    links = [a.attrib['href'] for a in lx.find('./a') if 'href' in a.attrib]\n",
    "    for link in links:\n",
    "        yield Request(url=link)\n",
    "    divs = selector(lx)\n",
    "    if divs: yield Item(utils.lx_to_text(divs[0]))"
   ]
  },
  {
   "cell_type": "code",
   "execution_count": 15,
   "metadata": {
    "collapsed": true
   },
   "outputs": [],
   "source": [
    "def process(response):\n",
    "    lx = lxml.html.fromstring(response.body)\n",
    "\n",
    "    title = lx.find('./head/title').text\n",
    "\n",
    "    links = [a.attrib['href'] for a in lx.find('./a') if 'href' in a.attrib]\n",
    "    for link in links:\n",
    "        yield Request(url=link)\n",
    "\n",
    "    selector = lxml.cssselect.CSSSelector('#main > div.text')\n",
    "    divs = selector(lx)\n",
    "    if divs:\n",
    "        bodytext = utils.lx_to_text(divs[0])\n",
    "        yield Item(bodytext)\n"
   ]
  },
  {
   "cell_type": "code",
   "execution_count": null,
   "metadata": {
    "collapsed": true
   },
   "outputs": [],
   "source": []
  }
 ],
 "metadata": {
  "kernelspec": {
   "display_name": "Python [default]",
   "language": "python",
   "name": "python3"
  },
  "language_info": {
   "codemirror_mode": {
    "name": "ipython",
    "version": 3
   },
   "file_extension": ".py",
   "mimetype": "text/x-python",
   "name": "python",
   "nbconvert_exporter": "python",
   "pygments_lexer": "ipython3",
   "version": "3.5.2"
  }
 },
 "nbformat": 4,
 "nbformat_minor": 2
}
